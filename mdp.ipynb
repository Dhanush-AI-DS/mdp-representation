{
  "nbformat": 4,
  "nbformat_minor": 0,
  "metadata": {
    "colab": {
      "provenance": []
    },
    "kernelspec": {
      "name": "python3",
      "display_name": "Python 3"
    },
    "language_info": {
      "name": "python"
    }
  },
  "cells": [
    {
      "cell_type": "code",
      "execution_count": 1,
      "metadata": {
        "colab": {
          "base_uri": "https://localhost:8080/"
        },
        "id": "GlsvcbZNz6Kv",
        "outputId": "ad1f5034-9620-4696-f6d2-0e794439cdb2"
      },
      "outputs": [
        {
          "output_type": "stream",
          "name": "stdout",
          "text": [
            "Collecting gym-walk\n",
            "  Cloning https://github.com/mimoralea/gym-walk to /tmp/pip-install-ox6x580e/gym-walk_9b948ba7fb6d43719a6988d5a149ca64\n",
            "  Running command git clone --filter=blob:none --quiet https://github.com/mimoralea/gym-walk /tmp/pip-install-ox6x580e/gym-walk_9b948ba7fb6d43719a6988d5a149ca64\n",
            "  Resolved https://github.com/mimoralea/gym-walk to commit 5999016267d6de2f5a63307fb00dfd63de319ac1\n",
            "  Preparing metadata (setup.py) ... \u001b[?25l\u001b[?25hdone\n",
            "Requirement already satisfied: gym in /usr/local/lib/python3.10/dist-packages (from gym-walk) (0.25.2)\n",
            "Requirement already satisfied: numpy>=1.18.0 in /usr/local/lib/python3.10/dist-packages (from gym->gym-walk) (1.23.5)\n",
            "Requirement already satisfied: cloudpickle>=1.2.0 in /usr/local/lib/python3.10/dist-packages (from gym->gym-walk) (2.2.1)\n",
            "Requirement already satisfied: gym-notices>=0.0.4 in /usr/local/lib/python3.10/dist-packages (from gym->gym-walk) (0.0.8)\n",
            "Building wheels for collected packages: gym-walk\n",
            "  Building wheel for gym-walk (setup.py) ... \u001b[?25l\u001b[?25hdone\n",
            "  Created wheel for gym-walk: filename=gym_walk-0.0.2-py3-none-any.whl size=4054 sha256=1cdd5cd6e6735b6dc1e1c96bb93eb7037e01eb5bc4b28d9df62d43fd2672643f\n",
            "  Stored in directory: /tmp/pip-ephem-wheel-cache-gw_uv_oj/wheels/24/fe/c4/0cbc7511d29265bad7e28a09311db3f87f0cafba74af54d530\n",
            "Successfully built gym-walk\n",
            "Installing collected packages: gym-walk\n",
            "Successfully installed gym-walk-0.0.2\n"
          ]
        }
      ],
      "source": [
        "pip install git+https://github.com/mimoralea/gym-walk#egg=gym-walk"
      ]
    },
    {
      "cell_type": "code",
      "source": [
        "T = {\n",
        "    0 : {\n",
        "        0 : [(1.0, 1, 1.0, True)],\n",
        "        1 : [(1.0, 0, 0.0, False)]\n",
        "    },\n",
        "    1 : {\n",
        "        0 : [(1.0, 2, 1.0, True)],\n",
        "        1 : [(1.0, 0, 0.0, False)]\n",
        "    },\n",
        "    2 : {\n",
        "        0 : [(1.0, 2, 1.0, True)],\n",
        "        1 : [(1.0, 1, 0.0, False)]\n",
        "    }\n",
        "}\n",
        "\n",
        "T"
      ],
      "metadata": {
        "colab": {
          "base_uri": "https://localhost:8080/"
        },
        "id": "LZmcMk3n0DrV",
        "outputId": "9b8e6f32-d22b-44c8-b0c4-3d3a141f08d2"
      },
      "execution_count": 2,
      "outputs": [
        {
          "output_type": "execute_result",
          "data": {
            "text/plain": [
              "{0: {0: [(1.0, 1, 1.0, True)], 1: [(1.0, 0, 0.0, False)]},\n",
              " 1: {0: [(1.0, 2, 1.0, True)], 1: [(1.0, 0, 0.0, False)]},\n",
              " 2: {0: [(1.0, 2, 1.0, True)], 1: [(1.0, 1, 0.0, False)]}}"
            ]
          },
          "metadata": {},
          "execution_count": 2
        }
      ]
    }
  ]
}